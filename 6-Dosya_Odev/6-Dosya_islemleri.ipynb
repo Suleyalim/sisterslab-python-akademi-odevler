{
 "cells": [
  {
   "cell_type": "markdown",
   "metadata": {},
   "source": [
    "\n",
    "Düzensiz ve duplicate veriden oluşan \"all_data.txt\" dosyası üzerinde yapılacak olan işlemler;\n",
    "\n",
    "* Bütün text küçük harfe çevrilecek\n",
    "* Türkçe karakterler replace edilecek\n",
    "  * ş -> s\n",
    "  * ı -> i\n",
    "  * ö -> o\n",
    "  * ğ -> g\n",
    "  * ç -> c\n",
    "  * ü -> u\n",
    "* Noktalama işaretleri kaldırılacak\n",
    "* Bir satır tamamen sayılardan oluşuyorsa satırı yeni dosyaya ekleme\n",
    "* Her satırda bir cümle olacak şekilde satırları düzenleyin\n",
    "* duplicate veri barındırmayacak"
   ]
  },
  {
   "cell_type": "code",
   "execution_count": 1,
   "metadata": {},
   "outputs": [],
   "source": [
    "with open(\"all_data.txt\", \"r\", encoding = \"utf-8\") as f:\n",
    "    lines = f.readlines()"
   ]
  },
  {
   "cell_type": "code",
   "execution_count": null,
   "metadata": {},
   "outputs": [],
   "source": [
    "import string\n",
    "noktalama_isaretleri = '''!#$%&'\"()*+,-/:;.<=>?@[\\]^_`{|}~»’“'''\n",
    "undup = set()\n",
    "with open(\"new_all_data.txt\", \"w\", encoding=\"utf-8\") as f:\n",
    "    for line in lines:\n",
    "        for i in line.split(\". \"):\n",
    "            i = i.lower().replace(\"ş\",\"s\").replace(\"ı\",\"i\").replace(\"ö\",\"o\").replace(\"ğ\",\"g\").replace(\"ç\",\"c\").replace(\"ü\",\"u\") + \"\\n\"\n",
    "            i = i.translate(str.maketrans('', '',string.punctuation))\n",
    "            i = i.replace(noktalama_isaretleri, \"\")\n",
    "            if(i not in undup and i != \"\\n\"):\n",
    "                f.write(i)\n",
    "                undup.add(i)"
   ]
  },
  {
   "cell_type": "code",
   "execution_count": null,
   "metadata": {},
   "outputs": [],
   "source": [
    "with open(\"numbers.txt\", \"w+\") as f:\n",
    "    for line in undup:\n",
    "        number = 1\n",
    "        for i in line:\n",
    "            if i.isnumeric() or i == \" \":\n",
    "                number+=1\n",
    "        if number == len(line) and number > 1:\n",
    "            f.write(line)"
   ]
  }
 ],
 "metadata": {
  "kernelspec": {
   "display_name": "Python 3.10.0 64-bit",
   "language": "python",
   "name": "python3"
  },
  "language_info": {
   "codemirror_mode": {
    "name": "ipython",
    "version": 3
   },
   "file_extension": ".py",
   "mimetype": "text/x-python",
   "name": "python",
   "nbconvert_exporter": "python",
   "pygments_lexer": "ipython3",
   "version": "3.10.0"
  },
  "orig_nbformat": 4,
  "vscode": {
   "interpreter": {
    "hash": "afb734500600fd355917ca529030176ea0ca205570884b88f2f6f7d791fd3fbe"
   }
  }
 },
 "nbformat": 4,
 "nbformat_minor": 2
}
