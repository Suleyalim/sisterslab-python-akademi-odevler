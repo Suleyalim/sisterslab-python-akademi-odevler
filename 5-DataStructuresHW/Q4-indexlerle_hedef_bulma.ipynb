{
 "cells": [
  {
   "cell_type": "markdown",
   "metadata": {},
   "source": [
    "Fonksiyon bir integer array nums ve bir hedef target değişkeni almalı ve bizlere toplamı target olan indexleri dönmeli.\n",
    "\n",
    "Kurallar: Aynı index’teki değeri iki defa kullanamayız.\n",
    "\n",
    "\n",
    "**Örnek**\n",
    "* Parametreler: nums = [2, 7, 11, 15], target = 9\n",
    "* Dönen Değer: [0, 1]\n",
    "* Açıklama: nums[0] ve nums[1]'deki değerlerin toplamı 9 yaptığı için çıktımız [0, 1] oldu.\n",
    "\n",
    "\n",
    "**Örnek**\n",
    "* Parametreler: nums = [3, 2, 4], target = 6\n",
    "* Dönen Değer: [1, 2]\n",
    "* Açıklama: nums[1] ve nums[2]'deki değerlerin toplamı 6 yaptığı için çıktımız [1, 2] oldu.\n",
    "\n",
    "\n",
    "Not: Burada [0,0] çıktı olarak kabul edilemez. Çünkü aynı index'i kullanamayacağımız söylenmişti.\n",
    "\n",
    "\n",
    "**Örnek**\n",
    "* Parametreler: nums = [3, 2, 4, 1, 3], target = 7\n",
    "* Dönen Değer: [2, 4]\n",
    "* Açıklama: nums[2] ve nums[4]'deki değerlerin toplamı 7 yaptığı için çıktımız [2, 4] oldu."
   ]
  },
  {
   "cell_type": "code",
   "execution_count": 3,
   "metadata": {},
   "outputs": [
    {
     "data": {
      "text/plain": [
       "[0, 4]"
      ]
     },
     "execution_count": 3,
     "metadata": {},
     "output_type": "execute_result"
    }
   ],
   "source": [
    "def indexlerle_hedef_bulma(nums, target):\n",
    "    for i in range(len(nums)): #Listedeki her bir sayıyı tek tek geziyoruz.\n",
    "        for j in range(len(nums)):#Listedeki her bir sayı için, listedeki her bir sayıyı tek tek geziyoruz.\n",
    "            if i == j: #Aynı index'te olan değerleri kullanamayacağımız için aynı indexleri atlıyoruz.\n",
    "                continue\n",
    "            elif nums[i] + nums[j] == target:#Eğer şu an üzerinde olduğumuz indexlerdeki sayıların toplamı target'a eşitse bu indexleri return ediyoruz.\n",
    "                return [i, j]\n",
    "\n",
    "indexlerle_hedef_bulma(nums = [3, 6, 9, 12, 7, 5], target = 10)\n"
   ]
  },
  {
   "cell_type": "code",
   "execution_count": 4,
   "metadata": {},
   "outputs": [
    {
     "data": {
      "text/plain": [
       "[0, 4]"
      ]
     },
     "execution_count": 4,
     "metadata": {},
     "output_type": "execute_result"
    }
   ],
   "source": [
    "#2.çözüm\n",
    "\n",
    "def indexlerle_hedef_bulma(nums, target):\n",
    "    visitedNumbers = {} #Önceden gezdiğimiz sayıların index'ini tutmak için bir değişken oluşturduk.\n",
    "\n",
    "    for index in range(len(nums)):\n",
    "        remain = target - nums[index]\n",
    "\n",
    "        #Kalan değeri önceden gördük mü diye kontrol ediyoruz. Eğer gördüysek index'ini alıp return ediyoruz.\n",
    "        if remain in visitedNumbers: \n",
    "            return [visitedNumbers[remain], index]\n",
    "\n",
    "        #Şu an olduğumuz sayının hangi index'te bulunduğunu değişkenimize ekliyoruz.\n",
    "        visitedNumbers[nums[index]] = index\n",
    "\n",
    "indexlerle_hedef_bulma(nums = [3, 6, 9, 12, 7, 5], target = 10)"
   ]
  }
 ],
 "metadata": {
  "kernelspec": {
   "display_name": "Python 3.10.0 64-bit",
   "language": "python",
   "name": "python3"
  },
  "language_info": {
   "codemirror_mode": {
    "name": "ipython",
    "version": 3
   },
   "file_extension": ".py",
   "mimetype": "text/x-python",
   "name": "python",
   "nbconvert_exporter": "python",
   "pygments_lexer": "ipython3",
   "version": "3.10.0"
  },
  "orig_nbformat": 4,
  "vscode": {
   "interpreter": {
    "hash": "afb734500600fd355917ca529030176ea0ca205570884b88f2f6f7d791fd3fbe"
   }
  }
 },
 "nbformat": 4,
 "nbformat_minor": 2
}
