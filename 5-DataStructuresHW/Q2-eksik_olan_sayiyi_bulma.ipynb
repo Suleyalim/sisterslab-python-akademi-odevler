{
 "cells": [
  {
   "cell_type": "markdown",
   "metadata": {},
   "source": [
    "2-Soru: 0dan 100e kadar karışık sırada sayıları tutan bir listenizin olduğunu düşünün. Bu liste içerisinde bu defa n tane sayı yerine 1 adet sayı eksik. Eksik olan sayıyı bulunuz."
   ]
  },
  {
   "cell_type": "code",
   "execution_count": 5,
   "metadata": {},
   "outputs": [
    {
     "name": "stdout",
     "output_type": "stream",
     "text": [
      "Listemiz:  [45, 88, 71, 66, 41, 50, 17, 38, 15, 34, 30, 82, 74, 4, 96, 57, 6, 24, 40, 97, 70, 67, 100, 77, 81, 90, 63, 49, 89, 7, 25, 64, 1, 69, 36, 86, 98, 19, 14, 21, 78, 73, 35, 54, 46, 43, 27, 95, 42, 65, 79, 3, 93, 58, 99, 39, 8, 12, 11, 91, 61, 53, 22, 92, 68, 94, 60, 83, 23, 51, 33, 31, 44, 0, 9, 16, 37, 13, 32, 28, 80, 2, 18, 85, 59, 75, 56, 55, 29, 72, 5, 20, 48, 87, 76, 47, 10, 52, 84, 26]\n",
      "Listemiz içerisinde {62} sayısı eksiktir.\n"
     ]
    }
   ],
   "source": [
    "import random\n",
    "\n",
    "my_list = [i for i in range(0, 101)]\n",
    "random.shuffle(my_list)\n",
    "del my_list[0]\n",
    "\n",
    "eksik_sayi = random.sample(my_list, 1)\n",
    "\n",
    "my_set = {i for i in range(0,101)}\n",
    "eksik_sayi = my_set - set(my_list)\n",
    "\n",
    "print(\"Listemiz: \", my_list)\n",
    "\n",
    "print(f\"Listemiz içerisinde {eksik_sayi} sayısı eksiktir.\")"
   ]
  }
 ],
 "metadata": {
  "kernelspec": {
   "display_name": "Python 3.10.0 64-bit",
   "language": "python",
   "name": "python3"
  },
  "language_info": {
   "codemirror_mode": {
    "name": "ipython",
    "version": 3
   },
   "file_extension": ".py",
   "mimetype": "text/x-python",
   "name": "python",
   "nbconvert_exporter": "python",
   "pygments_lexer": "ipython3",
   "version": "3.10.0"
  },
  "orig_nbformat": 4,
  "vscode": {
   "interpreter": {
    "hash": "afb734500600fd355917ca529030176ea0ca205570884b88f2f6f7d791fd3fbe"
   }
  }
 },
 "nbformat": 4,
 "nbformat_minor": 2
}
