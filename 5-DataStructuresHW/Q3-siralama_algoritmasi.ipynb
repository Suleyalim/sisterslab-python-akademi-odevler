{
 "cells": [
  {
   "cell_type": "markdown",
   "metadata": {},
   "source": [
    "3-Soru: Bir liste üzerinde sıralama algoritmasını kullanarak listeyi sıralayınız."
   ]
  },
  {
   "cell_type": "code",
   "execution_count": 11,
   "metadata": {},
   "outputs": [
    {
     "name": "stdout",
     "output_type": "stream",
     "text": [
      "[-12, -6, 4, 8, 0, 1000, 2, 89, 68, 118]\n",
      "[-12, -6, 4, 8, 0, 1000, 2, 89, 68, 118]\n",
      "[-12, -6, 0, 8, 4, 1000, 2, 89, 68, 118]\n",
      "[-12, -6, 0, 2, 4, 1000, 8, 89, 68, 118]\n",
      "[-12, -6, 0, 2, 4, 1000, 8, 89, 68, 118]\n",
      "[-12, -6, 0, 2, 4, 8, 1000, 89, 68, 118]\n",
      "[-12, -6, 0, 2, 4, 8, 68, 89, 1000, 118]\n",
      "[-12, -6, 0, 2, 4, 8, 68, 89, 1000, 118]\n",
      "[-12, -6, 0, 2, 4, 8, 68, 89, 118, 1000]\n",
      "[-12, -6, 0, 2, 4, 8, 68, 89, 118, 1000]\n"
     ]
    }
   ],
   "source": [
    "def siralama(a):\n",
    "    for i in range(len(a)-1):\n",
    "        enkucuk = i\n",
    "        for j in range(i+1, len(a)):\n",
    "            if a[j] < a[enkucuk]:\n",
    "                enkucuk = j\n",
    "        (a[i], a[enkucuk]) = (a[enkucuk], a[i])\n",
    "        print(a) #adım adım görmek için\n",
    "    print(a)\n",
    "liste = [2, -6, 4, 8, 0, 1000, -12, 89, 68, 118]\n",
    "siralama(liste)"
   ]
  },
  {
   "cell_type": "code",
   "execution_count": null,
   "metadata": {},
   "outputs": [],
   "source": []
  }
 ],
 "metadata": {
  "kernelspec": {
   "display_name": "Python 3.10.0 64-bit",
   "language": "python",
   "name": "python3"
  },
  "language_info": {
   "codemirror_mode": {
    "name": "ipython",
    "version": 3
   },
   "file_extension": ".py",
   "mimetype": "text/x-python",
   "name": "python",
   "nbconvert_exporter": "python",
   "pygments_lexer": "ipython3",
   "version": "3.10.0"
  },
  "orig_nbformat": 4,
  "vscode": {
   "interpreter": {
    "hash": "afb734500600fd355917ca529030176ea0ca205570884b88f2f6f7d791fd3fbe"
   }
  }
 },
 "nbformat": 4,
 "nbformat_minor": 2
}
