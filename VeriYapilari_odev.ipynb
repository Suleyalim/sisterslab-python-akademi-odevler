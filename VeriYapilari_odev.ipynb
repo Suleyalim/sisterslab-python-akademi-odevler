{
 "cells": [
  {
   "cell_type": "markdown",
   "metadata": {},
   "source": [
    "1-Soru: 0dan 100e kadar karışık sırada sayıları tutan bir listenizin olduğunu düşünün. n ve eksik sayıları bulunuz.\n",
    "\n",
    "my_list = [0, 7, 5, 8, 2] -> 0-10 arasında\n",
    "6 adet sayı eksiktir. Eksik olan sayılar [1, 3, 4, 6, 9, 10]"
   ]
  },
  {
   "cell_type": "code",
   "execution_count": 2,
   "metadata": {},
   "outputs": [
    {
     "name": "stdout",
     "output_type": "stream",
     "text": [
      "Karışık listenin eleman sayısı:  31\n",
      "69 tane sayı eksiktir.\n",
      "Karışık Sayı Listesi: \n",
      " [84, 41, 4, 45, 57, 40, 17, 62, 43, 12, 45, 0, 79, 35, 14, 77, 30, 13, 15, 93, 47, 32, 55, 6, 18, 66, 72, 47, 25, 88, 81]\n",
      "Listede Olmayan Eksik Sayılar: \n",
      " [{0, 1, 2, 3, 5, 7, 8, 9, 10, 11, 16, 19, 20, 21, 22, 23, 24, 26, 27, 28, 29, 31, 33, 34, 36, 37, 38, 39, 42, 44, 46, 48, 49, 50, 51, 52, 53, 54, 56, 58, 59, 60, 61, 63, 64, 65, 67, 68, 69, 70, 71, 73, 74, 75, 76, 78, 80, 82, 83, 85, 86, 87, 89, 90, 91, 92, 94, 95, 96, 97, 98, 99, 100}]\n"
     ]
    }
   ],
   "source": [
    "import random\n",
    "\n",
    "x = random.randint(0,100)\n",
    "print(\"Karışık listenin eleman sayısı: \", x)\n",
    "print((100 - x), \"tane sayı eksiktir.\")\n",
    "\n",
    "liste = []\n",
    "for i in range(1,101):\n",
    "    liste.append(i)\n",
    "\n",
    "my_list = [] \n",
    "for i in range(x): \n",
    "    my_list.append(random.randint(0,100))\n",
    "random.shuffle(my_list)\n",
    "\n",
    "new_list = []  \n",
    "new_list.append(set(liste)^set(my_list))\n",
    "\n",
    "print(\"Karışık Sayı Listesi: \\n\", my_list)\n",
    "print(\"Listede Olmayan Eksik Sayılar: \\n\", new_list)"
   ]
  },
  {
   "cell_type": "code",
   "execution_count": null,
   "metadata": {},
   "outputs": [],
   "source": []
  }
 ],
 "metadata": {
  "kernelspec": {
   "display_name": "Python 3.10.0 64-bit",
   "language": "python",
   "name": "python3"
  },
  "language_info": {
   "codemirror_mode": {
    "name": "ipython",
    "version": 3
   },
   "file_extension": ".py",
   "mimetype": "text/x-python",
   "name": "python",
   "nbconvert_exporter": "python",
   "pygments_lexer": "ipython3",
   "version": "3.10.0"
  },
  "orig_nbformat": 4,
  "vscode": {
   "interpreter": {
    "hash": "afb734500600fd355917ca529030176ea0ca205570884b88f2f6f7d791fd3fbe"
   }
  }
 },
 "nbformat": 4,
 "nbformat_minor": 2
}
